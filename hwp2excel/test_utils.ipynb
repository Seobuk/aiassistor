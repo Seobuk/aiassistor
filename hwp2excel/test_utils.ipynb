{
 "cells": [
  {
   "cell_type": "code",
   "execution_count": 1,
   "metadata": {},
   "outputs": [],
   "source": [
    "from pyhwpx_xlwings_utils import *"
   ]
  },
  {
   "cell_type": "code",
   "execution_count": 2,
   "metadata": {},
   "outputs": [],
   "source": [
    "hwpx = Hwp()"
   ]
  },
  {
   "cell_type": "code",
   "execution_count": 3,
   "metadata": {},
   "outputs": [
    {
     "data": {
      "text/plain": [
       "True"
      ]
     },
     "execution_count": 3,
     "metadata": {},
     "output_type": "execute_result"
    }
   ],
   "source": [
    "# hwpx.open(\"seaborn_tips.hwp\", arg=\"suspendpassword:false;forceopen:true;versionwarning:false\")\n",
    "hwpx.open(\"finance_abstract_2.hwp\", arg=\"suspendpassword:false;forceopen:true;versionwarning:false\")\n",
    "# hwpx.open(\"title_abstrtact.hwp\", arg=\"suspendpassword:false;forceopen:true;versionwarning:false\")\n",
    "# hwpx.open(\"table_ex.hwp\", arg=\"suspendpassword:false;forceopen:true;versionwarning:false\")"
   ]
  },
  {
   "cell_type": "code",
   "execution_count": 4,
   "metadata": {},
   "outputs": [],
   "source": [
    "xml_data = extract_table_as_xml(hwpx)"
   ]
  },
  {
   "cell_type": "code",
   "execution_count": 5,
   "metadata": {},
   "outputs": [],
   "source": [
    "file_name = 'test_3.xlsx'\n",
    "write_to_excel('test_3.xlsx', xml_data)"
   ]
  },
  {
   "cell_type": "code",
   "execution_count": 8,
   "metadata": {},
   "outputs": [],
   "source": [
    "new_xml_data = update_excel_to_xml_string(file_name, xml_data)"
   ]
  },
  {
   "cell_type": "code",
   "execution_count": 9,
   "metadata": {},
   "outputs": [
    {
     "data": {
      "text/plain": [
       "1"
      ]
     },
     "execution_count": 9,
     "metadata": {},
     "output_type": "execute_result"
    }
   ],
   "source": [
    "hwpx.MovePos(2)\n",
    "hwpx.SetTextFile(new_xml_data , 'HWPML2X')\n"
   ]
  }
 ],
 "metadata": {
  "kernelspec": {
   "display_name": "pyhwpxenv",
   "language": "python",
   "name": "python3"
  },
  "language_info": {
   "codemirror_mode": {
    "name": "ipython",
    "version": 3
   },
   "file_extension": ".py",
   "mimetype": "text/x-python",
   "name": "python",
   "nbconvert_exporter": "python",
   "pygments_lexer": "ipython3",
   "version": "3.10.15"
  },
  "orig_nbformat": 4,
  "vscode": {
   "interpreter": {
    "hash": "b5ce12c094440a8b37a5c8bff96f5f81375eb5fea53b85cfdf290ad783c6ee3c"
   }
  }
 },
 "nbformat": 4,
 "nbformat_minor": 2
}
